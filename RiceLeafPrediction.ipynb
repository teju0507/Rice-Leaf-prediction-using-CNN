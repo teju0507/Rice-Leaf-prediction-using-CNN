{
 "cells": [
  {
   "cell_type": "markdown",
   "metadata": {},
   "source": [
    "# Rice leaf Prediction "
   ]
  },
  {
   "cell_type": "code",
   "execution_count": 1,
   "metadata": {},
   "outputs": [],
   "source": [
    "import pandas as pd\n",
    "import numpy as np \n",
    "import itertools\n",
    "import keras\n",
    "from sklearn import metrics\n",
    "from sklearn.metrics import confusion_matrix\n",
    "from keras.preprocessing.image import ImageDataGenerator, img_to_array, load_img \n",
    "from keras.models import Sequential \n",
    "from keras import optimizers\n",
    "from keras.preprocessing import image\n",
    "from keras.layers import Dropout, Flatten, Dense \n",
    "from keras import applications \n",
    "from keras.utils.np_utils import to_categorical \n",
    "import matplotlib.pyplot as plt \n",
    "import matplotlib.image as mpimg\n",
    "import math \n",
    "import datetime\n",
    "import time"
   ]
  },
  {
   "cell_type": "markdown",
   "metadata": {},
   "source": [
    "# Using splitfolders to divide the data to train,validation and test."
   ]
  },
  {
   "cell_type": "code",
   "execution_count": 2,
   "metadata": {},
   "outputs": [
    {
     "name": "stderr",
     "output_type": "stream",
     "text": [
      "Copying files: 119 files [00:00, 337.73 files/s]\n"
     ]
    }
   ],
   "source": [
    "import splitfolders\n",
    "splitfolders.ratio(\"Data1\", output=\"output4\", seed=68, ratio=(0.8, 0.2, 0.0), group_prefix=None) # default values"
   ]
  },
  {
   "cell_type": "code",
   "execution_count": 28,
   "metadata": {},
   "outputs": [],
   "source": [
    "#Default dimensions we found online\n",
    "img_width, img_height = 150,150\n",
    "#Create a bottleneck file\n",
    "top_model_weights_path = \"bottleneck_fc_model.h5\"\n",
    "# loading up our datasets\n",
    "train_data_dir = \"output4/train\" \n",
    "validation_data_dir = \"output4/val\" \n",
    "test_data_dir = \"output4/test\"\n",
    " \n",
    "# number of epochs to train top model \n",
    "epochs = 7 \n",
    "# batch size used by flow_from_directory and predict_generator \n",
    "batch_size = 50 "
   ]
  },
  {
   "cell_type": "markdown",
   "metadata": {},
   "source": [
    "# Transfer learning"
   ]
  },
  {
   "cell_type": "code",
   "execution_count": 29,
   "metadata": {},
   "outputs": [],
   "source": [
    "#Loading vgc16 model\n",
    "vgg16 = applications.VGG16(include_top=False, weights=\"imagenet\")\n",
    "datagen = ImageDataGenerator(rescale=1. / 255) \n"
   ]
  },
  {
   "cell_type": "markdown",
   "metadata": {},
   "source": [
    "# need to create the bottleneck .npy files for train,validate and test"
   ]
  },
  {
   "cell_type": "code",
   "execution_count": 30,
   "metadata": {},
   "outputs": [
    {
     "name": "stdout",
     "output_type": "stream",
     "text": [
      "Found 95 images belonging to 3 classes.\n",
      "Time:  0:00:12.877188\n"
     ]
    }
   ],
   "source": [
    "#training data\n",
    "start = datetime.datetime.now()\n",
    "# getting data from directory and resizing the images.\n",
    "generator = datagen.flow_from_directory( \n",
    "    train_data_dir, \n",
    "    target_size=(150,150), \n",
    "    batch_size=batch_size, \n",
    "    class_mode=None, \n",
    "    shuffle=False) \n",
    " \n",
    "nb_train_samples = len(generator.filenames) \n",
    "num_classes = len(generator.class_indices) \n",
    " \n",
    "predict_size_train = int(math.ceil(nb_train_samples / batch_size)) \n",
    "\n",
    "bottleneck_features_train = vgg16.predict(generator, predict_size_train) \n",
    " \n",
    "np.save(\"bottleneck_features_train.npy\", bottleneck_features_train)\n",
    "end= datetime.datetime.now()\n",
    "elapsed= end-start\n",
    "print (\"Time: \", elapsed)"
   ]
  },
  {
   "cell_type": "code",
   "execution_count": 31,
   "metadata": {},
   "outputs": [
    {
     "name": "stdout",
     "output_type": "stream",
     "text": [
      "Found 23 images belonging to 3 classes.\n",
      "Time:  0:00:03.433715\n"
     ]
    }
   ],
   "source": [
    "#validation data\n",
    "start = datetime.datetime.now()\n",
    "# getting data from directory and resizing the images.\n",
    "generator = datagen.flow_from_directory( \n",
    "    validation_data_dir, \n",
    "    target_size=(150,150), \n",
    "    batch_size=batch_size, \n",
    "    class_mode=None, \n",
    "    shuffle=False) \n",
    " \n",
    "nb_val_samples = len(generator.filenames) \n",
    "num_classes = len(generator.class_indices) \n",
    " \n",
    "predict_size_val = int(math.ceil(nb_val_samples / batch_size)) \n",
    " \n",
    "bottleneck_features_val = vgg16.predict(generator, predict_size_val) \n",
    " \n",
    "np.save(\"bottleneck_features_val.npy\", bottleneck_features_val)\n",
    "end= datetime.datetime.now()\n",
    "elapsed= end-start\n",
    "print (\"Time: \", elapsed)"
   ]
  },
  {
   "cell_type": "code",
   "execution_count": 32,
   "metadata": {},
   "outputs": [
    {
     "name": "stdout",
     "output_type": "stream",
     "text": [
      "Found 3 images belonging to 3 classes.\n",
      "Time:  0:00:00.416381\n"
     ]
    }
   ],
   "source": [
    "#test data\n",
    "start = datetime.datetime.now()\n",
    "# getting data from directory and resizing the images.\n",
    "generator = datagen.flow_from_directory( \n",
    "    test_data_dir, \n",
    "    target_size=(150,150), \n",
    "    batch_size=batch_size, \n",
    "    class_mode=None, \n",
    "    shuffle=False) \n",
    " \n",
    "nb_test_samples = len(generator.filenames) \n",
    "num_classes = len(generator.class_indices) \n",
    " \n",
    "predict_size_test = int(math.ceil(nb_test_samples / batch_size)) \n",
    " \n",
    "bottleneck_features_test = vgg16.predict(generator, predict_size_test) \n",
    " \n",
    "np.save(\"bottleneck_features_test.npy\", bottleneck_features_test)\n",
    "end= datetime.datetime.now()\n",
    "elapsed= end-start\n",
    "print (\"Time: \", elapsed)"
   ]
  },
  {
   "cell_type": "markdown",
   "metadata": {},
   "source": [
    "# Adding the data to train,test and validate"
   ]
  },
  {
   "cell_type": "code",
   "execution_count": 33,
   "metadata": {},
   "outputs": [
    {
     "name": "stdout",
     "output_type": "stream",
     "text": [
      "Found 95 images belonging to 3 classes.\n"
     ]
    }
   ],
   "source": [
    "#training data\n",
    "generator_top = datagen.flow_from_directory( \n",
    "   train_data_dir, \n",
    "   target_size=(img_width, img_height), \n",
    "   batch_size=batch_size, \n",
    "   class_mode=\"categorical\", \n",
    "   shuffle=False) \n",
    " \n",
    "nb_train_samples = len(generator_top.filenames) \n",
    "num_classes = len(generator_top.class_indices) \n",
    " \n",
    "# load the bottleneck features saved earlier \n",
    "train_data = np.load(\"bottleneck_features_train.npy\") \n",
    " \n",
    "# get the class labels for the training data, in the original order \n",
    "train_labels = generator_top.classes \n",
    " \n",
    "# convert the training labels to categorical vectors \n",
    "train_labels = to_categorical(train_labels, num_classes=num_classes)"
   ]
  },
  {
   "cell_type": "code",
   "execution_count": 34,
   "metadata": {},
   "outputs": [
    {
     "name": "stdout",
     "output_type": "stream",
     "text": [
      "Found 23 images belonging to 3 classes.\n"
     ]
    }
   ],
   "source": [
    "#validation data\n",
    "generator_top = datagen.flow_from_directory( \n",
    "   validation_data_dir, \n",
    "   target_size=(150,150), \n",
    "   batch_size=batch_size, \n",
    "   class_mode=\"categorical\", \n",
    "   shuffle=False) \n",
    " \n",
    "nb_train_samples = len(generator_top.filenames) \n",
    "num_classes = len(generator_top.class_indices) \n",
    " \n",
    "# load the bottleneck features saved earlier \n",
    "validation_data = np.load(\"bottleneck_features_val.npy\") \n",
    " \n",
    "# get the class labels for the training data, in the original order \n",
    "validation_labels = generator_top.classes \n",
    " \n",
    "# convert the training labels to categorical vectors \n",
    "validation_labels = to_categorical(validation_labels, num_classes=num_classes)"
   ]
  },
  {
   "cell_type": "code",
   "execution_count": 35,
   "metadata": {},
   "outputs": [
    {
     "name": "stdout",
     "output_type": "stream",
     "text": [
      "Found 3 images belonging to 3 classes.\n"
     ]
    }
   ],
   "source": [
    "#test data\n",
    "generator_top = datagen.flow_from_directory( \n",
    "   test_data_dir, \n",
    "   target_size=(150,150), \n",
    "   batch_size=batch_size, \n",
    "   class_mode=\"categorical\", \n",
    "   shuffle=False) \n",
    " \n",
    "nb_train_samples = len(generator_top.filenames) \n",
    "num_classes = len(generator_top.class_indices) \n",
    " \n",
    "# load the bottleneck features saved earlier \n",
    "test_data = np.load(\"bottleneck_features_test.npy\") \n",
    " \n",
    "# get the class labels for the training data, in the original order \n",
    "test_labels = generator_top.classes \n",
    " \n",
    "# convert the training labels to categorical vectors \n",
    "test_labels = to_categorical(test_labels, num_classes=num_classes)"
   ]
  },
  {
   "cell_type": "code",
   "execution_count": 36,
   "metadata": {},
   "outputs": [
    {
     "name": "stdout",
     "output_type": "stream",
     "text": [
      "Training data shape :  (95, 4, 4, 512) (95, 3)\n",
      "Testing data shape :  (23, 4, 4, 512) (23, 3)\n"
     ]
    }
   ],
   "source": [
    "# finding the size of data.\n",
    "print('Training data shape : ', train_data.shape, train_labels.shape)\n",
    "\n",
    "print('Testing data shape : ', validation_data.shape, validation_labels.shape)"
   ]
  },
  {
   "cell_type": "markdown",
   "metadata": {},
   "source": [
    "# Building the model"
   ]
  },
  {
   "cell_type": "code",
   "execution_count": 38,
   "metadata": {},
   "outputs": [],
   "source": [
    "tart = datetime.datetime.now()\n",
    "model = Sequential() \n",
    "model.add(Flatten(input_shape=train_data.shape[1:])) \n",
    "model.add(Dense(64, activation=\"relu\")) \n",
    "model.add(Dropout(0.5)) \n",
    "model.add(Dense(64, activation=\"sigmoid\")) \n",
    "model.add(Dropout(0.3)) \n",
    "model.add(Dense(num_classes, activation=\"softmax\"))\n",
    "model.compile(loss=\"categorical_crossentropy\",\n",
    "   optimizer=optimizers.RMSprop(lr=1e-4),\n",
    "   metrics=[\"acc\"])\n"
   ]
  },
  {
   "cell_type": "code",
   "execution_count": 39,
   "metadata": {},
   "outputs": [
    {
     "name": "stdout",
     "output_type": "stream",
     "text": [
      "Epoch 1/30\n",
      "2/2 [==============================] - 1s 237ms/step - loss: 1.4342 - acc: 0.2968 - val_loss: 1.1438 - val_acc: 0.3478\n",
      "Epoch 2/30\n",
      "2/2 [==============================] - 0s 64ms/step - loss: 1.1703 - acc: 0.2895 - val_loss: 1.0881 - val_acc: 0.3478\n",
      "Epoch 3/30\n",
      "2/2 [==============================] - 0s 52ms/step - loss: 1.1353 - acc: 0.3937 - val_loss: 1.0676 - val_acc: 0.3478\n",
      "Epoch 4/30\n",
      "2/2 [==============================] - 0s 52ms/step - loss: 1.1504 - acc: 0.3456 - val_loss: 1.0539 - val_acc: 0.3478\n",
      "Epoch 5/30\n",
      "2/2 [==============================] - 0s 49ms/step - loss: 1.1338 - acc: 0.3930 - val_loss: 1.0434 - val_acc: 0.3913\n",
      "Epoch 6/30\n",
      "2/2 [==============================] - 0s 45ms/step - loss: 1.1079 - acc: 0.3930 - val_loss: 1.0321 - val_acc: 0.5217\n",
      "Epoch 7/30\n",
      "2/2 [==============================] - 0s 60ms/step - loss: 1.1095 - acc: 0.4004 - val_loss: 1.0231 - val_acc: 0.5217\n",
      "Epoch 8/30\n",
      "2/2 [==============================] - 0s 60ms/step - loss: 1.1314 - acc: 0.4000 - val_loss: 1.0165 - val_acc: 0.5217\n",
      "Epoch 9/30\n",
      "2/2 [==============================] - 0s 69ms/step - loss: 1.0540 - acc: 0.4007 - val_loss: 1.0094 - val_acc: 0.6522\n",
      "Epoch 10/30\n",
      "2/2 [==============================] - 0s 93ms/step - loss: 1.0884 - acc: 0.4628 - val_loss: 1.0012 - val_acc: 0.6957\n",
      "Epoch 11/30\n",
      "2/2 [==============================] - 0s 80ms/step - loss: 1.0568 - acc: 0.4211 - val_loss: 0.9913 - val_acc: 0.6522\n",
      "Epoch 12/30\n",
      "2/2 [==============================] - 0s 67ms/step - loss: 1.0536 - acc: 0.4958 - val_loss: 0.9859 - val_acc: 0.6522\n",
      "Epoch 13/30\n",
      "2/2 [==============================] - 0s 81ms/step - loss: 1.1010 - acc: 0.4274 - val_loss: 0.9779 - val_acc: 0.6522\n",
      "Epoch 14/30\n",
      "2/2 [==============================] - 0s 82ms/step - loss: 0.9891 - acc: 0.4958 - val_loss: 0.9722 - val_acc: 0.6522\n",
      "Epoch 15/30\n",
      "2/2 [==============================] - 0s 68ms/step - loss: 0.9782 - acc: 0.4832 - val_loss: 0.9655 - val_acc: 0.6957\n",
      "Epoch 16/30\n",
      "2/2 [==============================] - 0s 67ms/step - loss: 0.8786 - acc: 0.6140 - val_loss: 0.9553 - val_acc: 0.6522\n",
      "Epoch 17/30\n",
      "2/2 [==============================] - 0s 55ms/step - loss: 1.0182 - acc: 0.5182 - val_loss: 0.9456 - val_acc: 0.6522\n",
      "Epoch 18/30\n",
      "2/2 [==============================] - 0s 60ms/step - loss: 0.9607 - acc: 0.5312 - val_loss: 0.9383 - val_acc: 0.6522\n",
      "Epoch 19/30\n",
      "2/2 [==============================] - 0s 70ms/step - loss: 0.9237 - acc: 0.5653 - val_loss: 0.9316 - val_acc: 0.7391\n",
      "Epoch 20/30\n",
      "2/2 [==============================] - 0s 96ms/step - loss: 0.8820 - acc: 0.5653 - val_loss: 0.9254 - val_acc: 0.7391\n",
      "Epoch 21/30\n",
      "2/2 [==============================] - 0s 89ms/step - loss: 0.9088 - acc: 0.5860 - val_loss: 0.9177 - val_acc: 0.7391\n",
      "Epoch 22/30\n",
      "2/2 [==============================] - 0s 144ms/step - loss: 0.9909 - acc: 0.5116 - val_loss: 0.9089 - val_acc: 0.6957\n",
      "Epoch 23/30\n",
      "2/2 [==============================] - 0s 74ms/step - loss: 0.9092 - acc: 0.6074 - val_loss: 0.9023 - val_acc: 0.7391\n",
      "Epoch 24/30\n",
      "2/2 [==============================] - 0s 79ms/step - loss: 0.9046 - acc: 0.6414 - val_loss: 0.8947 - val_acc: 0.6522\n",
      "Epoch 25/30\n",
      "2/2 [==============================] - 0s 70ms/step - loss: 0.8678 - acc: 0.5726 - val_loss: 0.8876 - val_acc: 0.7826\n",
      "Epoch 26/30\n",
      "2/2 [==============================] - 0s 52ms/step - loss: 0.9254 - acc: 0.6340 - val_loss: 0.8807 - val_acc: 0.7391\n",
      "Epoch 27/30\n",
      "2/2 [==============================] - 0s 58ms/step - loss: 0.7793 - acc: 0.7165 - val_loss: 0.8718 - val_acc: 0.7391\n",
      "Epoch 28/30\n",
      "2/2 [==============================] - 0s 65ms/step - loss: 0.9294 - acc: 0.5860 - val_loss: 0.8687 - val_acc: 0.7826\n",
      "Epoch 29/30\n",
      "2/2 [==============================] - 0s 79ms/step - loss: 0.9014 - acc: 0.5379 - val_loss: 0.8610 - val_acc: 0.7391\n",
      "Epoch 30/30\n",
      "2/2 [==============================] - 0s 74ms/step - loss: 0.7975 - acc: 0.6688 - val_loss: 0.8542 - val_acc: 0.7391\n"
     ]
    }
   ],
   "source": [
    "history = model.fit(train_data, train_labels, \n",
    "   epochs=30,\n",
    "   batch_size=batch_size, \n",
    "   validation_data=(validation_data, validation_labels))\n"
   ]
  },
  {
   "cell_type": "markdown",
   "metadata": {},
   "source": [
    "# Evaluating the model"
   ]
  },
  {
   "cell_type": "code",
   "execution_count": 40,
   "metadata": {},
   "outputs": [
    {
     "name": "stdout",
     "output_type": "stream",
     "text": [
      "1/1 [==============================] - 0s 16ms/step - loss: 0.8542 - acc: 0.7391\n",
      "[INFO] accuracy: 73.91%\n",
      "[INFO] Loss: 0.8541516661643982\n",
      "Time:  0:00:04.303544\n"
     ]
    }
   ],
   "source": [
    "model.save_weights(top_model_weights_path)\n",
    "(eval_loss, eval_accuracy) = model.evaluate( \n",
    "    validation_data, validation_labels, batch_size=batch_size,     verbose=1)\n",
    "print(\"[INFO] accuracy: {:.2f}%\".format(eval_accuracy * 100)) \n",
    "print(\"[INFO] Loss: {}\".format(eval_loss)) \n",
    "end= datetime.datetime.now()\n",
    "elapsed= end-start\n",
    "print (\"Time: \", elapsed)"
   ]
  },
  {
   "cell_type": "code",
   "execution_count": 41,
   "metadata": {},
   "outputs": [
    {
     "data": {
      "image/png": "[encoded data removed]",
      "text/plain": [
       "<Figure size 432x288 with 1 Axes>"
      ]
     },
     "metadata": {
      "needs_background": "light"
     },
     "output_type": "display_data"
    },
    {
     "data": {
      "image/png": "[encoded data removed]",
      "text/plain": [
       "<Figure size 432x288 with 1 Axes>"
      ]
     },
     "metadata": {
      "needs_background": "light"
     },
     "output_type": "display_data"
    }
   ],
   "source": [
    "#Graphing our training and validation\n",
    "acc = history.history[\"acc\"]\n",
    "val_acc = history.history[\"val_acc\"]\n",
    "loss = history.history[\"loss\"]\n",
    "val_loss = history.history[\"val_loss\"]\n",
    "epochs = range(len(acc))\n",
    "plt.plot(epochs, acc, \"r\", label=\"Training acc\")\n",
    "plt.plot(epochs, val_acc, \"b\", label=\"Validation acc\")\n",
    "plt.title(\"Training and validation accuracy\")\n",
    "plt.ylabel(\"accuracy\") \n",
    "plt.xlabel(\"epoch\")\n",
    "plt.legend()\n",
    "plt.figure()\n",
    "plt.plot(epochs, loss, \"r\", label=\"Training loss\")\n",
    "plt.plot(epochs, val_loss, \"b\", label=\"Validation loss\")\n",
    "plt.title(\"Training and validation loss\")\n",
    "plt.ylabel(\"loss\") \n",
    "plt.xlabel(\"epoch\")\n",
    "plt.legend()\n",
    "plt.show()"
   ]
  },
  {
   "cell_type": "code",
   "execution_count": 42,
   "metadata": {},
   "outputs": [
    {
     "name": "stdout",
     "output_type": "stream",
     "text": [
      "1/1 [==============================] - 0s 24ms/step - loss: 0.8480 - acc: 0.6667\n"
     ]
    },
    {
     "data": {
      "text/plain": [
       "[0.8480237126350403, 0.6666666865348816]"
      ]
     },
     "execution_count": 42,
     "metadata": {},
     "output_type": "execute_result"
    }
   ],
   "source": [
    "model.evaluate(test_data,test_labels)"
   ]
  },
  {
   "cell_type": "markdown",
   "metadata": {},
   "source": [
    "# The conclusion we got from this dataset is\n",
    "# Training Accuracy=73.91%\n",
    "# Testing Accuracy = 66.66%"
   ]
  }
 ],
 "metadata": {
  "kernelspec": {
   "display_name": "Python 3",
   "language": "python",
   "name": "python3"
  },
  "language_info": {
   "codemirror_mode": {
    "name": "ipython",
    "version": 3
   },
   "file_extension": ".py",
   "mimetype": "text/x-python",
   "name": "python",
   "nbconvert_exporter": "python",
   "pygments_lexer": "ipython3",
   "version": "3.8.5"
  }
 },
 "nbformat": 4,
 "nbformat_minor": 4
}
